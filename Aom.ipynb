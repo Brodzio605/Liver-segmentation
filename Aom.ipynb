{
 "cells": [
  {
   "cell_type": "code",
   "execution_count": 2,
   "metadata": {},
   "outputs": [
    {
     "ename": "ModuleNotFoundError",
     "evalue": "No module named 'tensorflow'",
     "output_type": "error",
     "traceback": [
      "\u001b[1;31m---------------------------------------------------------------------------\u001b[0m",
      "\u001b[1;31mModuleNotFoundError\u001b[0m                       Traceback (most recent call last)",
      "Cell \u001b[1;32mIn[2], line 2\u001b[0m\n\u001b[0;32m      1\u001b[0m \u001b[38;5;66;03m# Common\u001b[39;00m\n\u001b[1;32m----> 2\u001b[0m \u001b[38;5;28;01mimport\u001b[39;00m \u001b[38;5;21;01mtensorflow\u001b[39;00m \u001b[38;5;28;01mas\u001b[39;00m \u001b[38;5;21;01mtf\u001b[39;00m\n\u001b[0;32m      3\u001b[0m \u001b[38;5;28;01mfrom\u001b[39;00m \u001b[38;5;21;01mglob\u001b[39;00m \u001b[38;5;28;01mimport\u001b[39;00m glob\n\u001b[0;32m      4\u001b[0m \u001b[38;5;28;01mimport\u001b[39;00m \u001b[38;5;21;01mnumpy\u001b[39;00m \u001b[38;5;28;01mas\u001b[39;00m \u001b[38;5;21;01mnp\u001b[39;00m\n",
      "\u001b[1;31mModuleNotFoundError\u001b[0m: No module named 'tensorflow'"
     ]
    }
   ],
   "source": [
    "# Common\n",
    "import tensorflow as tf\n",
    "from glob import glob\n",
    "import numpy as np\n",
    "\n",
    "# Data\n",
    "from sklearn.model_selection import train_test_split\n",
    "import cv2\n",
    "\n",
    "# Data visualization\n",
    "import matplotlib.pyplot as plt\n",
    "\n",
    "# Model\n",
    "from keras.models import Model\n",
    "from keras.layers import Input, Conv2D, MaxPooling2D, Conv2DTranspose, concatenate\n",
    "from keras.optimizers import Adam\n",
    "\n",
    "# Metrics\n",
    "from tensorflow.keras.metrics import *\n",
    "import pathlib\n",
    "import os\n",
    "import cv2\n",
    "import numpy as np\n",
    "import tensorflow as tf\n",
    "from sklearn.model_selection import train_test_split\n",
    "from keras.models import load_model\n",
    "from keras.optimizers import Adam"
   ]
  },
  {
   "cell_type": "code",
   "execution_count": null,
   "metadata": {},
   "outputs": [],
   "source": [
    "images = []\n",
    "masks = []\n",
    "\n",
    "masks_dir = r\"C:\\Users\\Brodzio\\OneDrive - Opolska eSzkola\\Pulpit\\AOM_Projekt\\0013\"\n",
    "img_dir = r\"C:\\Users\\Brodzio\\OneDrive - Opolska eSzkola\\Pulpit\\AOM_Projekt\\0013i\"\n",
    "\n",
    "# Wczytywanie masek\n",
    "for filename in os.listdir(masks_dir):\n",
    "    mask = cv2.imread(os.path.join(masks_dir, filename), 0)  # Wczytywanie maski w skali szarości\n",
    "    mask = mask / 255.0  # Normalizacja wartości pikseli do zakresu 0-1\n",
    "    mask = cv2.resize(mask, (256, 256))  # Zmiana rozmiaru maski na 256x256 pikseli\n",
    "    mask = np.expand_dims(mask, axis=-1)  # Dodanie wymiaru osi do maski\n",
    "    print(mask.shape)\n",
    "    masks.append(mask)\n",
    "\n",
    "# Wczytywanie obrazów\n",
    "for filename in os.listdir(img_dir):\n",
    "    img = cv2.imread(os.path.join(img_dir, filename))  # Wczytywanie obrazu\n",
    "    img = cv2.cvtColor(img, cv2.COLOR_BGR2GRAY)  # Konwertowanie na skalę szarości\n",
    "    img = img / 255.0  # Normalizacja wartości pikseli do zakresu 0-1\n",
    "    img = cv2.resize(img, (256, 256))  # Zmiana rozmiaru obrazu na 256x256 pikseli\n",
    "    img = np.expand_dims(img, axis=-1)  # Dodanie wymiaru osi do obrazu\n",
    "    print(img.shape)\n",
    "    images.append(img)\n",
    "\n",
    "# Konwertowanie list na tablice numpy\n",
    "images = np.array(images)\n",
    "masks = np.array(masks)"
   ]
  }
 ],
 "metadata": {
  "kernelspec": {
   "display_name": "Python 3",
   "language": "python",
   "name": "python3"
  },
  "language_info": {
   "codemirror_mode": {
    "name": "ipython",
    "version": 3
   },
   "file_extension": ".py",
   "mimetype": "text/x-python",
   "name": "python",
   "nbconvert_exporter": "python",
   "pygments_lexer": "ipython3",
   "version": "3.12.0"
  }
 },
 "nbformat": 4,
 "nbformat_minor": 2
}
